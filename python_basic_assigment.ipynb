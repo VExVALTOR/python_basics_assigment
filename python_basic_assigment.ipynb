{
  "nbformat": 4,
  "nbformat_minor": 0,
  "metadata": {
    "colab": {
      "provenance": []
    },
    "kernelspec": {
      "name": "python3",
      "display_name": "Python 3"
    },
    "language_info": {
      "name": "python"
    }
  },
  "cells": [
    {
      "cell_type": "markdown",
      "source": [
        "1. What is Python, and why is it popular?\n",
        "  \n",
        "  Python is a high - level language, interpreted programming language. Reasons for it's popularity:\n",
        "*   easy to read syantax.\n",
        "*   large and active community.\n",
        "*   extensive standerd library and third pary packages.\n",
        "*   versatility\n",
        "\n",
        "2. What is an interpreter in Python?\n",
        "\n",
        "  An interpreter in python is a program that reads and executes pythons codes line by line. Unlike a complier, which translate an entire program before runnig it, the Python interpreter executes code immediately, making development and debugging faster.\n",
        "\n",
        "3. What are pre-defined keywords in Python?\n",
        "\n",
        "  Pre-defined keywords are words that have special meaning in the python language and cannot be used for other purpose like naming a variable, functions, etc. Eg: if, else, elif, while, for, def, return, True, False. and, or, not, etc.\n",
        "\n",
        "\n",
        "4. Can keywords be used as variable names?\n",
        "\n",
        "  No, keywords are reserved by the language, so they cann't be used as variable.\n",
        "\n",
        "5. What is mutability in Python?\n",
        "\n",
        "  Mutability refers to wherther an object's content can be chnaged after it is created. If an object's content can be altered, it's mutable otherwise it's immutable.\n",
        "\n",
        "6. Why are lists mutable, but tuples are immutable?\n",
        "\n",
        "*   List: They allow their elements to be modified, added, or removed in place without creating a new list.\n",
        "*   Tuple: They cann't be changed once created. Any operation that tries to modifey a tuple will result in error or create a new tuple.\n",
        "\n",
        "7. What is the difference between “==” and “is” operators in Python?\n",
        "\n",
        "  \"==\" checks equality of values between two objects. \"is\" checks identity, i.e., whether two references point to the exact same object in the memory.\n",
        "\n",
        "8. What are logical operators in Python?\n",
        "\n",
        "  Logical Operators:\n",
        "\n",
        "*   and: returns True if both conditions are True.\n",
        "*   or: returns True if at least one condition is True.\n",
        "*   not: negates the truth value of an expression.\n",
        "\n",
        "9. What is type casting in Python?\n",
        "\n",
        "  Converting one datatype into another, such as from string to integer, or from float to integer.\n",
        "\n",
        "10. What is the difference between implicit and explicit type casting?\n",
        "\n",
        "*    Implicit: Pyhton automatically converts data types when needed, without user intervention.\n",
        "*    Explicit: The programmer manually converts the datatypes using constructor functions like int(), float(), str(), etc.\n",
        "\n",
        "11. What is the purpose of conditional statements in Python?\n",
        "\n",
        "  To execute certain blocks of codeonly  when specific condition are met, allowing decision-making within a program.\n",
        "\n",
        "12. How does the elif statement work?\n",
        "\n",
        "  elif is used to check multiple conditions in succession. If a prior if or elif condition is not met, python checks the next elif.\n",
        "\n",
        "13. What is the difference between for and while loops?\n",
        "*    for loop is generally used for iterating over a sequence when the number of iterations is known or finite.\n",
        "*    while loop is used when the number of iterations is not known in advance; it continues untill the condition becomes false.\n",
        "\n",
        "14. Describe a scenario where a while loop is more suitable than a for loop.\n",
        "\n",
        "  A while loop is more suitable when you don't know how many times you need to loop in advance and you rely on a contition to stop. Eg: continuously read user input untill the user types \"quite\".\n",
        "\n",
        "\n",
        "\n",
        "\n",
        "\n",
        "\n",
        "\n",
        "\n",
        "\n"
      ],
      "metadata": {
        "id": "VG0p47rsrZkF"
      }
    },
    {
      "cell_type": "markdown",
      "source": [],
      "metadata": {
        "id": "XYTW-Wj1p2g0"
      }
    },
    {
      "cell_type": "code",
      "source": [
        "#15. Write a Python program to print \"Hello, World!\n",
        "print(\"Hello World!\")"
      ],
      "metadata": {
        "colab": {
          "base_uri": "https://localhost:8080/"
        },
        "id": "u8IIjO2d0H1T",
        "outputId": "cdd01d24-409d-4725-9ec4-a10fa8bbb711"
      },
      "execution_count": 4,
      "outputs": [
        {
          "output_type": "stream",
          "name": "stdout",
          "text": [
            "Hello World!\n"
          ]
        }
      ]
    },
    {
      "cell_type": "code",
      "source": [
        "#16. Write a Python program that displays your name and age.\n",
        "name = \"Pritam\"\n",
        "age = \"21\"\n",
        "print(\"Name: \", name)\n",
        "print(\"Age: \", age)"
      ],
      "metadata": {
        "colab": {
          "base_uri": "https://localhost:8080/"
        },
        "id": "eWTn4gPW0iOP",
        "outputId": "684ce15a-c747-4cf4-9503-eaef27009446"
      },
      "execution_count": 5,
      "outputs": [
        {
          "output_type": "stream",
          "name": "stdout",
          "text": [
            "Name:  Pritam\n",
            "Age:  21\n"
          ]
        }
      ]
    },
    {
      "cell_type": "code",
      "source": [
        "#17. Write code to print all the pre-defined keywords in Python using the keyword library.\n",
        "import keyword\n",
        "print(keyword.kwlist)"
      ],
      "metadata": {
        "colab": {
          "base_uri": "https://localhost:8080/"
        },
        "id": "lrT6LGlU0iB_",
        "outputId": "5e1a6d21-5fe5-45e4-bcba-bcd64db0c1d3"
      },
      "execution_count": 6,
      "outputs": [
        {
          "output_type": "stream",
          "name": "stdout",
          "text": [
            "['False', 'None', 'True', 'and', 'as', 'assert', 'async', 'await', 'break', 'class', 'continue', 'def', 'del', 'elif', 'else', 'except', 'finally', 'for', 'from', 'global', 'if', 'import', 'in', 'is', 'lambda', 'nonlocal', 'not', 'or', 'pass', 'raise', 'return', 'try', 'while', 'with', 'yield']\n"
          ]
        }
      ]
    },
    {
      "cell_type": "code",
      "source": [
        "#18. Write a program that checks if a given word is a Python keyword.\n",
        "import keyword\n",
        "word = input(\"Enter a word: \")\n",
        "if keyword.iskeyword(word):\n",
        "  print(word, \"it's a keyword. \")\n",
        "else:\n",
        "  print(word, \" is not a keyword. \")"
      ],
      "metadata": {
        "colab": {
          "base_uri": "https://localhost:8080/"
        },
        "id": "oKdhaKsh0h2i",
        "outputId": "c09b0abc-d486-4c73-e233-15f42ae0211a"
      },
      "execution_count": 7,
      "outputs": [
        {
          "output_type": "stream",
          "name": "stdout",
          "text": [
            "Enter a word: is\n",
            "is it's a keyword. \n"
          ]
        }
      ]
    },
    {
      "cell_type": "code",
      "source": [
        "#19. Create a list and tuple in Python, and demonstrate how attempting to change an element works differently for each.\n",
        "l = [1,2,3]\n",
        "l[0] = 10\n",
        "print(\"Modified list: \",l)\n",
        "\n",
        "tup = (1,2,3)\n",
        "#tup[0] = 10 (This will cause a type error)\n",
        "print(\"Tup: \", tup)"
      ],
      "metadata": {
        "colab": {
          "base_uri": "https://localhost:8080/"
        },
        "id": "O9MB64d10hqj",
        "outputId": "a630c941-7876-40bc-8439-4fd832bb1026"
      },
      "execution_count": 8,
      "outputs": [
        {
          "output_type": "stream",
          "name": "stdout",
          "text": [
            "Modified list:  [10, 2, 3]\n",
            "Tup:  (1, 2, 3)\n"
          ]
        }
      ]
    },
    {
      "cell_type": "code",
      "source": [
        "#20. Write a function to demonstrate the behavior of mutable and immutable arguments.\n",
        "def demo(l, num):\n",
        "  l.append (99)\n",
        "  num +=1\n",
        "  a = [1,2,3]\n",
        "  n = 10\n",
        "  demo(l, n)\n",
        "  print(\"List after funtion call: \", a)\n",
        "  print(\"Number after funtion call: \", n)"
      ],
      "metadata": {
        "id": "nPdiVvKv0hfD"
      },
      "execution_count": 10,
      "outputs": []
    },
    {
      "cell_type": "code",
      "source": [
        "#21.  Write a program that performs basic arithmetic operations on two user-input numbers.\n",
        "num1 = float(input(\"Enter first number: \"))\n",
        "num2 = float(input(\"Enter second number: \"))\n",
        "print(\"Sum: \", num1 + num2)\n",
        "print(\"Difference: \", num1 - num2)\n",
        "print(\"Product: \", num1 * num2)\n",
        "print(\"Quotient: \", num1 / num2)"
      ],
      "metadata": {
        "colab": {
          "base_uri": "https://localhost:8080/"
        },
        "id": "C7czZoK30hUL",
        "outputId": "f8a66eb9-ed6a-4424-dbc2-401cabe0352d"
      },
      "execution_count": 11,
      "outputs": [
        {
          "output_type": "stream",
          "name": "stdout",
          "text": [
            "Enter first number: 23\n",
            "Enter second number: 36\n",
            "Sum:  59.0\n",
            "Difference:  -13.0\n",
            "Product:  828.0\n",
            "Quotient:  0.6388888888888888\n"
          ]
        }
      ]
    },
    {
      "cell_type": "code",
      "source": [
        "#22. Write a program to demonstrate the use of logical operators.\n",
        "a = int(input(\"Enter a number: \"))\n",
        "b = int(input(\"Enter another number: \"))\n",
        "print(\"a > 0 and b < 0: \", a > 0 and b > 0)\n",
        "print(\"a < 0 and b > 0: \", a < 0 and b < 0)\n",
        "print(\"not (a == b): \", not(a == b))\n"
      ],
      "metadata": {
        "colab": {
          "base_uri": "https://localhost:8080/"
        },
        "id": "nEHN2CVT0hIb",
        "outputId": "24e3ce1b-9ee4-4cf5-ae12-dc97f0c5dc77"
      },
      "execution_count": 3,
      "outputs": [
        {
          "output_type": "stream",
          "name": "stdout",
          "text": [
            "Enter a number: 2\n",
            "Enter another number: 3\n",
            "a > 0 and b < 0:  True\n",
            "a < 0 and b > 0:  False\n",
            "not (a == b):  True\n"
          ]
        }
      ]
    },
    {
      "cell_type": "code",
      "source": [
        "#23. Write a Python program to convert user input from string to integer, float, and boolean types.\n",
        "INPUT = input(\"Enter someting: \")\n",
        "int_val = int(INPUT)\n",
        "float_val = float(INPUT)\n",
        "bool_val = bool(INPUT)\n",
        "print(\"Integer: \", int_val)\n",
        "print(\"Float: \", float_val)\n",
        "print(\"Bool: \", bool_val)"
      ],
      "metadata": {
        "colab": {
          "base_uri": "https://localhost:8080/"
        },
        "id": "EvGbSMCb0gyT",
        "outputId": "4a7a7418-6008-4734-f6d5-a522fa46738c"
      },
      "execution_count": 13,
      "outputs": [
        {
          "output_type": "stream",
          "name": "stdout",
          "text": [
            "Write/Enter someting: 143\n",
            "Integer:  143\n",
            "Float:  143.0\n",
            "Bool:  True\n"
          ]
        }
      ]
    },
    {
      "cell_type": "code",
      "source": [
        "#24. Write code to demonstrate type casting with list elements.\n",
        "l = [\"1\", \"2\", \"3\"]\n",
        "L = [int(i) for i in l]\n",
        "print(\"Explicit cast: \", L )\n",
        "\n",
        "num = 69\n",
        "NUM = 88.0\n",
        "res = num + NUM\n",
        "print(\"Implicit cast result: \", res)"
      ],
      "metadata": {
        "colab": {
          "base_uri": "https://localhost:8080/"
        },
        "id": "j_JCX1YY6uwJ",
        "outputId": "a406887f-65ac-4968-8f44-27efc9c32334"
      },
      "execution_count": 14,
      "outputs": [
        {
          "output_type": "stream",
          "name": "stdout",
          "text": [
            "Explicit cast:  [1, 2, 3]\n",
            "Implicit cast result:  157.0\n"
          ]
        }
      ]
    },
    {
      "cell_type": "code",
      "source": [
        "#25. Write a program that checks if a number is positive, negative, or zero.\n",
        "num = float(input(\"Enter a number: \"))\n",
        "if num > 0:\n",
        "  print(\"positive.\")\n",
        "elif num < 0:\n",
        "  print(\"negative.\")\n",
        "else:\n",
        "  print(\"ZERO\")"
      ],
      "metadata": {
        "colab": {
          "base_uri": "https://localhost:8080/"
        },
        "id": "TQil4RPY0gno",
        "outputId": "40886a35-6580-4e56-92b7-a340b36d5798"
      },
      "execution_count": 15,
      "outputs": [
        {
          "output_type": "stream",
          "name": "stdout",
          "text": [
            "Enter a number: 23\n",
            "positive.\n"
          ]
        }
      ]
    },
    {
      "cell_type": "code",
      "source": [
        "#26. Write a for loop to print numbers from 1 to 10.\n",
        "for i in range(1,11):\n",
        "  print(i)"
      ],
      "metadata": {
        "colab": {
          "base_uri": "https://localhost:8080/"
        },
        "id": "F9-Ln3wi0gbo",
        "outputId": "68afd307-11ee-4432-dc80-13c45a339a17"
      },
      "execution_count": 16,
      "outputs": [
        {
          "output_type": "stream",
          "name": "stdout",
          "text": [
            "1\n",
            "2\n",
            "3\n",
            "4\n",
            "5\n",
            "6\n",
            "7\n",
            "8\n",
            "9\n",
            "10\n"
          ]
        }
      ]
    },
    {
      "cell_type": "code",
      "source": [
        "#27. Write a Python program to find the sum of all even numbers between 1 and 50.\n",
        "for i in range (1,51):\n",
        "  if i % 2 == 0:\n",
        "    print(i, \"is even.\")"
      ],
      "metadata": {
        "colab": {
          "base_uri": "https://localhost:8080/"
        },
        "id": "kW1NW6510gRs",
        "outputId": "f05bb31e-1ef1-4d81-aba1-8f052f2a7c7f"
      },
      "execution_count": 17,
      "outputs": [
        {
          "output_type": "stream",
          "name": "stdout",
          "text": [
            "2 is even.\n",
            "4 is even.\n",
            "6 is even.\n",
            "8 is even.\n",
            "10 is even.\n",
            "12 is even.\n",
            "14 is even.\n",
            "16 is even.\n",
            "18 is even.\n",
            "20 is even.\n",
            "22 is even.\n",
            "24 is even.\n",
            "26 is even.\n",
            "28 is even.\n",
            "30 is even.\n",
            "32 is even.\n",
            "34 is even.\n",
            "36 is even.\n",
            "38 is even.\n",
            "40 is even.\n",
            "42 is even.\n",
            "44 is even.\n",
            "46 is even.\n",
            "48 is even.\n",
            "50 is even.\n"
          ]
        }
      ]
    },
    {
      "cell_type": "code",
      "source": [
        "#28.  Write a program to reverse a string using a while loop.\n",
        "i = \" \"\n",
        "while i != \"quite\":\n",
        "  i = input(\"ENter someting: \")\n",
        "  if i != \"quite\":\n",
        "    print(\"You have entered: \", i)"
      ],
      "metadata": {
        "colab": {
          "base_uri": "https://localhost:8080/"
        },
        "id": "m2517zTw0gFQ",
        "outputId": "2323a9a5-2a7b-41fc-d2d0-2dd1a845a929"
      },
      "execution_count": 18,
      "outputs": [
        {
          "name": "stdout",
          "output_type": "stream",
          "text": [
            "ENter someting: i\n",
            "You have entered:  i\n",
            "ENter someting: love\n",
            "You have entered:  love\n",
            "ENter someting: pw\n",
            "You have entered:  pw\n",
            "ENter someting: quite\n"
          ]
        }
      ]
    },
    {
      "cell_type": "code",
      "source": [
        "#29. Write a Python program to calculate the factorial of a number provided by the user using a while loop.\n",
        "num = int(input(\"Enter a number: \"))\n",
        "fac = 1\n",
        "cur = 1\n",
        "while cur <= num:\n",
        "  fac *= cur\n",
        "  cur += 1\n",
        "print(\"Factorial of\",num,\"is\",fac)"
      ],
      "metadata": {
        "colab": {
          "base_uri": "https://localhost:8080/"
        },
        "id": "zE3kKDVf0f2q",
        "outputId": "fa93eeb2-94f5-4d82-d50a-7675b8b9b1de"
      },
      "execution_count": 19,
      "outputs": [
        {
          "output_type": "stream",
          "name": "stdout",
          "text": [
            "Enter a number: 69\n",
            "Factorial of 69 is 171122452428141311372468338881272839092270544893520369393648040923257279754140647424000000000000000\n"
          ]
        }
      ]
    }
  ]
}